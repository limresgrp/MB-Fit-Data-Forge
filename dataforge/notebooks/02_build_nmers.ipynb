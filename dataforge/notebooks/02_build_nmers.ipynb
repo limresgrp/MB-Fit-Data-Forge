{
 "cells": [
  {
   "cell_type": "code",
   "execution_count": 1,
   "metadata": {},
   "outputs": [],
   "source": [
    "%reload_ext autoreload\n",
    "%autoreload 2"
   ]
  },
  {
   "cell_type": "code",
   "execution_count": 2,
   "metadata": {},
   "outputs": [],
   "source": [
    "# ----------------------- I M P O R T S --------------------------- #\n",
    "\n",
    "from dataforge.scripts.build_nmers import build_nmers\n",
    "\n",
    "# ----------------------- C O N F I G S --------------------------- #\n",
    "\n",
    "INPUT_FILENAME = \"/storage_common/angiod/MB-Fit-Data-Forge/POPC/traj/prod.T303.T353.T403.T453.npz\"\n",
    "INPUT_FILENAME = \"/storage_common/angiod/MB-Fit-Data-Forge/POPC/traj/prod-stride-17.npz\"\n",
    "DATASET_ROOT   = \"/storage_common/angiod/MB-Fit-Data-Forge/POPC/POPC.DELETE/\"\n",
    "\n",
    "# --- Option 1 --- #\n",
    "# k: dict(n=N, method=US)  = Uniform Sampling (Default)\n",
    "# k: dict(n=N, method=FPS) = Furthest Point Sampling\n",
    "\n",
    "# NMER_SAMPLING_CONF = {\n",
    "#     1: 100, # Default method is US\n",
    "#     2: 100, # Default method is US\n",
    "#     3: dict(n=1, method='FPS')\n",
    "# }\n",
    "\n",
    "# --- Option 2 --- #\n",
    "\n",
    "# Does not perform sampling, takes all n-mers in the dataset.\n",
    "# This method is faster cause it does not compute descriptors,\n",
    "# but can be memory consuming\n",
    "NMER_SAMPLING_CONF = [1, 2]\n",
    "\n",
    "# ----------------------------------------------------------------- #"
   ]
  },
  {
   "cell_type": "code",
   "execution_count": null,
   "metadata": {},
   "outputs": [],
   "source": [
    "build_nmers(\n",
    "    input_filename = INPUT_FILENAME,\n",
    "    dataset_root   = DATASET_ROOT,\n",
    "    nmer_sampling_conf = NMER_SAMPLING_CONF,\n",
    "    keep_only_monomer_names=['C-CCHO', 'C__OO-CC'], # ['C-CHHO', 'C-CCHO', 'C__OO-CC', 'C-CCHH'],\n",
    "    max_processes=16,\n",
    ")"
   ]
  },
  {
   "cell_type": "code",
   "execution_count": null,
   "metadata": {},
   "outputs": [],
   "source": [
    "from dataforge.src.generic import read_h5_file\n",
    "x = read_h5_file('/storage_common/angiod/MB-Fit-Data-Forge/POPC/POPC.DELETE/data/xyz_capped/monomers/C-CCHO/C-CCHO_2.h5')\n",
    "x[2][0]"
   ]
  },
  {
   "cell_type": "code",
   "execution_count": 1,
   "metadata": {},
   "outputs": [],
   "source": [
    "from dataforge.scripts.build_nmers import prepare_qchem_input\n",
    "from dataforge.src import DataDict\n",
    "from os.path import join\n",
    "\n",
    "DATA_ROOT = \"/storage_common/angiod/MB-Fit-Data-Forge/POPC/POPC.DELETE/data\"\n",
    "NMERS_CAPPED_ROOT = join(DATA_ROOT, \"xyz_capped/\")\n",
    "QCHEM_IN_ROOT     = join(DATA_ROOT, \"qchem_input/\")\n",
    "QCHEM_MIN_IN_ROOT = join(DATA_ROOT, \"qchem_min_input/\")\n",
    "\n",
    "prepare_qchem_input(\n",
    "    NMERS_CAPPED_ROOT,\n",
    "    QCHEM_IN_ROOT,\n",
    "    QCHEM_MIN_IN_ROOT,\n",
    "    DataDict.CHARGES_DICT,\n",
    ")"
   ]
  }
 ],
 "metadata": {
  "kernelspec": {
   "display_name": "dataforge",
   "language": "python",
   "name": "python3"
  },
  "language_info": {
   "codemirror_mode": {
    "name": "ipython",
    "version": 3
   },
   "file_extension": ".py",
   "mimetype": "text/x-python",
   "name": "python",
   "nbconvert_exporter": "python",
   "pygments_lexer": "ipython3",
   "version": "3.12.3"
  }
 },
 "nbformat": 4,
 "nbformat_minor": 2
}
