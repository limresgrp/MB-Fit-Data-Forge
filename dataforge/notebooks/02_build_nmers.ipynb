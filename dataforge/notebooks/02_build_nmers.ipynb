{
 "cells": [
  {
   "cell_type": "code",
   "execution_count": null,
   "metadata": {},
   "outputs": [],
   "source": [
    "%reload_ext autoreload\n",
    "%autoreload 2"
   ]
  },
  {
   "cell_type": "code",
   "execution_count": null,
   "metadata": {},
   "outputs": [],
   "source": [
    "from dataforge.scripts.build_nmers import build_nmers"
   ]
  },
  {
   "cell_type": "code",
   "execution_count": null,
   "metadata": {},
   "outputs": [],
   "source": [
    "# ----------------------- C O N F I G S --------------------------- #\n",
    "\n",
    "INPUT_FILENAME = \"/storage_common/angiod/MB-Fit-Data-Forge/POPC/traj/prod.npz\"\n",
    "DATASET_ROOT   = \"/storage_common/angiod/MB-Fit-Data-Forge/POPC/\"\n",
    "\n",
    "NMER_N_SAMPLES = {\n",
    "    1: 0,\n",
    "    2: 0,\n",
    "    3: 10,\n",
    "}\n",
    "\n",
    "# ----------------------------------------------------------------- #"
   ]
  },
  {
   "cell_type": "code",
   "execution_count": null,
   "metadata": {},
   "outputs": [],
   "source": [
    "build_nmers(\n",
    "    input_filename = INPUT_FILENAME,\n",
    "    dataset_root   = DATASET_ROOT,\n",
    "    nmer_n_samples = NMER_N_SAMPLES,\n",
    "    keep_only_monomer_names=['POOOO-CC', 'C-CHHO', 'C-CCHO', 'C-CHHN']\n",
    ")"
   ]
  }
 ],
 "metadata": {
  "kernelspec": {
   "display_name": "heqbm",
   "language": "python",
   "name": "python3"
  },
  "language_info": {
   "codemirror_mode": {
    "name": "ipython",
    "version": 3
   },
   "file_extension": ".py",
   "mimetype": "text/x-python",
   "name": "python",
   "nbconvert_exporter": "python",
   "pygments_lexer": "ipython3",
   "version": "3.12.3"
  }
 },
 "nbformat": 4,
 "nbformat_minor": 2
}
