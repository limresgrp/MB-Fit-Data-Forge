{
 "cells": [
  {
   "cell_type": "code",
   "execution_count": null,
   "metadata": {},
   "outputs": [],
   "source": [
    "%reload_ext autoreload\n",
    "%autoreload 2"
   ]
  },
  {
   "cell_type": "code",
   "execution_count": null,
   "metadata": {},
   "outputs": [],
   "source": [
    "from dataforge.scripts.parse_traj import parse_trajectory"
   ]
  },
  {
   "cell_type": "code",
   "execution_count": null,
   "metadata": {},
   "outputs": [],
   "source": [
    "# ----------------------- C O N F I G S --------------------------- #\n",
    "\n",
    "INPUT_FILENAME  = \"/storage_common/angiod/MB-Fit/POPC/data/traj/prod.tpr\"\n",
    "TRAJ_FILENAMES  = [\"/storage_common/angiod/MB-Fit/POPC/data/traj/prod.xtc\"]\n",
    "SELECTION       = \"resname POPC\"\n",
    "TRAJSLICE       = \":10\"\n",
    "OUTPUT_FILENAME = \"/storage_common/angiod/MB-Fit-Data-Forge/POPC/traj/\"\n",
    "\n",
    "# ----------------------------------------------------------------- #"
   ]
  },
  {
   "cell_type": "code",
   "execution_count": null,
   "metadata": {},
   "outputs": [],
   "source": [
    "output_filename = parse_trajectory(\n",
    "    input_filename  = INPUT_FILENAME,\n",
    "    traj_filenames  = TRAJ_FILENAMES,\n",
    "    selection       = SELECTION,\n",
    "    trajslice       = TRAJSLICE,\n",
    "    output_filename = OUTPUT_FILENAME,\n",
    ")"
   ]
  },
  {
   "cell_type": "code",
   "execution_count": null,
   "metadata": {},
   "outputs": [],
   "source": [
    "# - Check created dataset - #\n",
    "import numpy as np\n",
    "\n",
    "dataset = np.load(output_filename, allow_pickle=True)\n",
    "for k in dataset.keys():\n",
    "    print(k, dataset[k].shape, dataset[k].dtype)"
   ]
  }
 ],
 "metadata": {
  "kernelspec": {
   "display_name": "venv",
   "language": "python",
   "name": "python3"
  },
  "language_info": {
   "codemirror_mode": {
    "name": "ipython",
    "version": 3
   },
   "file_extension": ".py",
   "mimetype": "text/x-python",
   "name": "python",
   "nbconvert_exporter": "python",
   "pygments_lexer": "ipython3",
   "version": "3.12.3"
  },
  "orig_nbformat": 4,
  "vscode": {
   "interpreter": {
    "hash": "3d784520853ba3bff934bc6e6d343a8f5124c9eeba9cbf6187bbb2d1b731b101"
   }
  }
 },
 "nbformat": 4,
 "nbformat_minor": 2
}
