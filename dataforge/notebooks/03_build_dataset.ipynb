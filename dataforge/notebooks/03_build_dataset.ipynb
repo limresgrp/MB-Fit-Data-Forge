{
 "cells": [
  {
   "cell_type": "code",
   "execution_count": 1,
   "metadata": {},
   "outputs": [],
   "source": [
    "%reload_ext autoreload\n",
    "%autoreload 2"
   ]
  },
  {
   "cell_type": "code",
   "execution_count": null,
   "metadata": {},
   "outputs": [],
   "source": [
    "from dataforge.src import DataDict\n",
    "from dataforge.scripts.build_dataset import build_dataset\n",
    "\n",
    "DATASET_ROOT =  \"/storage_common/angiod/MB-Fit-Data-Forge/POPC/POPC.DELETE\"\n",
    "\n",
    "build_dataset(\n",
    "    dataset_root = DATASET_ROOT,\n",
    "    rule_if_file_exists = DataDict.SKIP,\n",
    "    nmer_folder = None, # Specify this if you want to build dataset only for a specific subfolder\n",
    "    QCHEM_MIN_OUT_ROOT = \"/storage_common/angiod/MB-Fit-Data-Forge/POPC/optimized/exp.01/qchem_min_output\",\n",
    "    FIT_POLY_ROOT = \"/storage_common/angiod/MB-Fit-Data-Forge/POPC/poly\",\n",
    "    FIT_OPTIM_ROOT = \"/storage_common/angiod/MB-Fit-Data-Forge/POPC/optimized/exp.01/data.opt\",\n",
    ")"
   ]
  }
 ],
 "metadata": {
  "kernelspec": {
   "display_name": "dataforge",
   "language": "python",
   "name": "python3"
  },
  "language_info": {
   "codemirror_mode": {
    "name": "ipython",
    "version": 3
   },
   "file_extension": ".py",
   "mimetype": "text/x-python",
   "name": "python",
   "nbconvert_exporter": "python",
   "pygments_lexer": "ipython3",
   "version": "3.12.3"
  }
 },
 "nbformat": 4,
 "nbformat_minor": 2
}
